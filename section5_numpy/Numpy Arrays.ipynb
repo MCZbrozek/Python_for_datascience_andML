{
 "cells": [
  {
   "cell_type": "code",
   "execution_count": 1,
   "id": "ba7ce218",
   "metadata": {},
   "outputs": [],
   "source": [
    " my_list = [1,2,3]"
   ]
  },
  {
   "cell_type": "code",
   "execution_count": 2,
   "id": "aa40beb2",
   "metadata": {},
   "outputs": [],
   "source": [
    "import numpy as np"
   ]
  },
  {
   "cell_type": "code",
   "execution_count": 3,
   "id": "c0d62b84",
   "metadata": {},
   "outputs": [],
   "source": [
    "arr = np.array(my_list)"
   ]
  },
  {
   "cell_type": "code",
   "execution_count": 4,
   "id": "ee69dbe5",
   "metadata": {},
   "outputs": [
    {
     "data": {
      "text/plain": [
       "array([1, 2, 3])"
      ]
     },
     "execution_count": 4,
     "metadata": {},
     "output_type": "execute_result"
    }
   ],
   "source": [
    "arr"
   ]
  },
  {
   "cell_type": "code",
   "execution_count": 5,
   "id": "a01dc454",
   "metadata": {},
   "outputs": [],
   "source": [
    "my_mat = [[1,2,3], [4,5,6], [7,8,9]]"
   ]
  },
  {
   "cell_type": "code",
   "execution_count": 6,
   "id": "bbfdc447",
   "metadata": {},
   "outputs": [
    {
     "data": {
      "text/plain": [
       "array([[1, 2, 3],\n",
       "       [4, 5, 6],\n",
       "       [7, 8, 9]])"
      ]
     },
     "execution_count": 6,
     "metadata": {},
     "output_type": "execute_result"
    }
   ],
   "source": [
    "np.array(my_mat)"
   ]
  },
  {
   "cell_type": "markdown",
   "id": "1cd570ee",
   "metadata": {},
   "source": [
    "## Generating Numpy Arrays"
   ]
  },
  {
   "cell_type": "code",
   "execution_count": 9,
   "id": "ec58de58",
   "metadata": {},
   "outputs": [
    {
     "data": {
      "text/plain": [
       "array([0, 2, 4, 6, 8])"
      ]
     },
     "execution_count": 9,
     "metadata": {},
     "output_type": "execute_result"
    }
   ],
   "source": [
    "np.arange(0,10,2) # 0 start, 10 stop, 2 step"
   ]
  },
  {
   "cell_type": "code",
   "execution_count": 10,
   "id": "7230edd7",
   "metadata": {},
   "outputs": [
    {
     "data": {
      "text/plain": [
       "array([0., 0., 0.])"
      ]
     },
     "execution_count": 10,
     "metadata": {},
     "output_type": "execute_result"
    }
   ],
   "source": [
    "np.zeros(3) # one dimensional"
   ]
  },
  {
   "cell_type": "code",
   "execution_count": 12,
   "id": "09d35cf5",
   "metadata": {},
   "outputs": [
    {
     "data": {
      "text/plain": [
       "array([[0., 0., 0., 0., 0.],\n",
       "       [0., 0., 0., 0., 0.],\n",
       "       [0., 0., 0., 0., 0.],\n",
       "       [0., 0., 0., 0., 0.],\n",
       "       [0., 0., 0., 0., 0.]])"
      ]
     },
     "execution_count": 12,
     "metadata": {},
     "output_type": "execute_result"
    }
   ],
   "source": [
    "np.zeros((5,5)) # Pass in a tuple, and get a 5 x 5"
   ]
  },
  {
   "cell_type": "code",
   "execution_count": 14,
   "id": "1a5b3d54",
   "metadata": {},
   "outputs": [
    {
     "data": {
      "text/plain": [
       "array([0.        , 0.55555556, 1.11111111, 1.66666667, 2.22222222,\n",
       "       2.77777778, 3.33333333, 3.88888889, 4.44444444, 5.        ])"
      ]
     },
     "execution_count": 14,
     "metadata": {},
     "output_type": "execute_result"
    }
   ],
   "source": [
    "np.linspace(0,5,10) # 1 dimensional array, you can tell by the single bracket"
   ]
  },
  {
   "cell_type": "code",
   "execution_count": 15,
   "id": "a859ccbe",
   "metadata": {},
   "outputs": [
    {
     "data": {
      "text/plain": [
       "array([[1., 0., 0., 0.],\n",
       "       [0., 1., 0., 0.],\n",
       "       [0., 0., 1., 0.],\n",
       "       [0., 0., 0., 1.]])"
      ]
     },
     "execution_count": 15,
     "metadata": {},
     "output_type": "execute_result"
    }
   ],
   "source": [
    "np.eye(4) # Identity matrix must be square"
   ]
  },
  {
   "cell_type": "code",
   "execution_count": 16,
   "id": "b76d3d07",
   "metadata": {},
   "outputs": [
    {
     "data": {
      "text/plain": [
       "array([[0.91188703, 0.06123509, 0.70213353, 0.69246879, 0.93819788],\n",
       "       [0.15095938, 0.8987349 , 0.91141066, 0.42573071, 0.38543713],\n",
       "       [0.59454861, 0.12217671, 0.17061129, 0.39247431, 0.24519773],\n",
       "       [0.20901302, 0.68860316, 0.40217143, 0.12994605, 0.58843557],\n",
       "       [0.39523318, 0.57503617, 0.70261895, 0.80999257, 0.27878201]])"
      ]
     },
     "execution_count": 16,
     "metadata": {},
     "output_type": "execute_result"
    }
   ],
   "source": [
    "np.random.rand(5,5) # Random numbers from a uniform distibution"
   ]
  },
  {
   "cell_type": "code",
   "execution_count": 18,
   "id": "1ca2bd8e",
   "metadata": {},
   "outputs": [
    {
     "data": {
      "text/plain": [
       "array([[ 0.08040119, -1.09389753,  0.71952958, -2.1738774 ],\n",
       "       [ 0.92478906,  0.88443245,  0.74880683,  1.51332309]])"
      ]
     },
     "execution_count": 18,
     "metadata": {},
     "output_type": "execute_result"
    }
   ],
   "source": [
    "np.random.randn(2,4)  # Standard distibution these numbers plotted out would should a normal/Guasian distribution curve"
   ]
  },
  {
   "cell_type": "code",
   "execution_count": 20,
   "id": "13b79091",
   "metadata": {},
   "outputs": [
    {
     "data": {
      "text/plain": [
       "array([63, 86, 80, 25, 47, 94, 15, 19, 13, 87])"
      ]
     },
     "execution_count": 20,
     "metadata": {},
     "output_type": "execute_result"
    }
   ],
   "source": [
    "np.random.randint(1,101, 10) #inclusive on the low and end but exclusive on the high end"
   ]
  },
  {
   "cell_type": "markdown",
   "id": "b2aaef59",
   "metadata": {},
   "source": [
    "## useful attributes and methods of Arrays"
   ]
  },
  {
   "cell_type": "code",
   "execution_count": 21,
   "id": "b3908ca5",
   "metadata": {},
   "outputs": [],
   "source": [
    "arr = np.arange(25)"
   ]
  },
  {
   "cell_type": "code",
   "execution_count": 22,
   "id": "a7471288",
   "metadata": {},
   "outputs": [
    {
     "data": {
      "text/plain": [
       "array([ 0,  1,  2,  3,  4,  5,  6,  7,  8,  9, 10, 11, 12, 13, 14, 15, 16,\n",
       "       17, 18, 19, 20, 21, 22, 23, 24])"
      ]
     },
     "execution_count": 22,
     "metadata": {},
     "output_type": "execute_result"
    }
   ],
   "source": [
    "arr"
   ]
  },
  {
   "cell_type": "code",
   "execution_count": 23,
   "id": "adf8cd94",
   "metadata": {},
   "outputs": [],
   "source": [
    "ranarr = np.random.randint(0,50,10)"
   ]
  },
  {
   "cell_type": "code",
   "execution_count": 24,
   "id": "faacfa03",
   "metadata": {},
   "outputs": [
    {
     "data": {
      "text/plain": [
       "array([22, 35,  6, 30, 37, 37,  5, 34, 15, 15])"
      ]
     },
     "execution_count": 24,
     "metadata": {},
     "output_type": "execute_result"
    }
   ],
   "source": [
    "ranarr"
   ]
  },
  {
   "cell_type": "code",
   "execution_count": 26,
   "id": "16e4d9af",
   "metadata": {},
   "outputs": [
    {
     "data": {
      "text/plain": [
       "array([[ 0,  1,  2,  3,  4],\n",
       "       [ 5,  6,  7,  8,  9],\n",
       "       [10, 11, 12, 13, 14],\n",
       "       [15, 16, 17, 18, 19],\n",
       "       [20, 21, 22, 23, 24]])"
      ]
     },
     "execution_count": 26,
     "metadata": {},
     "output_type": "execute_result"
    }
   ],
   "source": [
    "arr.reshape(5,5) # This can modify a single array into an array of x rows and x columns"
   ]
  },
  {
   "cell_type": "code",
   "execution_count": 29,
   "id": "065765f5",
   "metadata": {},
   "outputs": [
    {
     "data": {
      "text/plain": [
       "37"
      ]
     },
     "execution_count": 29,
     "metadata": {},
     "output_type": "execute_result"
    }
   ],
   "source": [
    "ranarr.max() # you can also run min()"
   ]
  },
  {
   "cell_type": "code",
   "execution_count": 31,
   "id": "88e724cb",
   "metadata": {},
   "outputs": [
    {
     "data": {
      "text/plain": [
       "4"
      ]
     },
     "execution_count": 31,
     "metadata": {},
     "output_type": "execute_result"
    }
   ],
   "source": [
    "ranarr.argmax() # This will return the index location of the max value"
   ]
  },
  {
   "cell_type": "code",
   "execution_count": 32,
   "id": "5f3f1206",
   "metadata": {},
   "outputs": [
    {
     "data": {
      "text/plain": [
       "(25,)"
      ]
     },
     "execution_count": 32,
     "metadata": {},
     "output_type": "execute_result"
    }
   ],
   "source": [
    "arr.shape # Show shape of array"
   ]
  },
  {
   "cell_type": "code",
   "execution_count": 33,
   "id": "a254f080",
   "metadata": {},
   "outputs": [],
   "source": [
    "arr = arr.reshape(5,5)"
   ]
  },
  {
   "cell_type": "code",
   "execution_count": 35,
   "id": "c64a85ba",
   "metadata": {},
   "outputs": [
    {
     "data": {
      "text/plain": [
       "(5, 5)"
      ]
     },
     "execution_count": 35,
     "metadata": {},
     "output_type": "execute_result"
    }
   ],
   "source": [
    "arr.shape"
   ]
  },
  {
   "cell_type": "code",
   "execution_count": 36,
   "id": "71796bf0",
   "metadata": {},
   "outputs": [
    {
     "data": {
      "text/plain": [
       "dtype('int32')"
      ]
     },
     "execution_count": 36,
     "metadata": {},
     "output_type": "execute_result"
    }
   ],
   "source": [
    "arr.dtype"
   ]
  },
  {
   "cell_type": "code",
   "execution_count": null,
   "id": "bba2c899",
   "metadata": {},
   "outputs": [],
   "source": []
  }
 ],
 "metadata": {
  "kernelspec": {
   "display_name": "Python 3 (ipykernel)",
   "language": "python",
   "name": "python3"
  },
  "language_info": {
   "codemirror_mode": {
    "name": "ipython",
    "version": 3
   },
   "file_extension": ".py",
   "mimetype": "text/x-python",
   "name": "python",
   "nbconvert_exporter": "python",
   "pygments_lexer": "ipython3",
   "version": "3.9.13"
  }
 },
 "nbformat": 4,
 "nbformat_minor": 5
}
